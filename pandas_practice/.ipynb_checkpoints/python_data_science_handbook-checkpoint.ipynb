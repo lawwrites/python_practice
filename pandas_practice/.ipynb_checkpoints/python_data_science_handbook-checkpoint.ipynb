{
 "cells": [
  {
   "cell_type": "code",
   "execution_count": 30,
   "id": "b22bfb4c-14d6-4c37-8697-4a01fbedf25e",
   "metadata": {},
   "outputs": [],
   "source": [
    "import numpy as np\n",
    "import pandas as pd\n",
    "import random "
   ]
  },
  {
   "cell_type": "code",
   "execution_count": 4,
   "id": "6560c344-2484-424f-9c40-fa6d5bc60c04",
   "metadata": {},
   "outputs": [],
   "source": [
    "area_dict = {'California': 423967, 'Texas': 695662, 'Florida': 170312, 'New York': 141297, 'Pennsylvania': 119280}\n",
    "population_dict = {'California' : 39538223, 'Texas' : 29145505 , 'Florida' : 21538187, 'New York' : 20201249, 'Pennsylvania' : 13002700}\n",
    "density_dict = {'California' : 90.00, 'Texas' : 41.896 , 'Florida' : 126.5, 'New York' : 142.97, 'Pennsylvania' : 109.30}\n",
    "area = pd.Series(area_dict)\n"
   ]
  },
  {
   "cell_type": "code",
   "execution_count": 5,
   "id": "840a8e04-0613-4aa1-8236-e629c2b4475e",
   "metadata": {},
   "outputs": [
    {
     "name": "stdout",
     "output_type": "stream",
     "text": [
      "Area\n",
      "California      423967\n",
      "Texas           695662\n",
      "Florida         170312\n",
      "New York        141297\n",
      "Pennsylvania    119280\n",
      "dtype: int64\n",
      "Population\n",
      "California      39538223\n",
      "Texas           29145505\n",
      "Florida         21538187\n",
      "New York        20201249\n",
      "Pennsylvania    13002700\n",
      "dtype: int64\n"
     ]
    }
   ],
   "source": [
    "#Run a dictionary list\n",
    "area_dict = {area : amount for area,amount in area_dict.items()}\n",
    "#Create a series so can convert to a dataframe\n",
    "series_area = pd.Series(area_dict)\n",
    "series_pop = pd.Series(population_dict)\n",
    "series_density = pd.Series(density_dict)\n",
    "#Check that it worked\n",
    "print(\"Area\")\n",
    "print(series_area)\n",
    "print(\"Population\")\n",
    "print(series_pop)"
   ]
  },
  {
   "cell_type": "code",
   "execution_count": 6,
   "id": "6b35c246-c1b6-418a-95c3-1834456506f0",
   "metadata": {},
   "outputs": [
    {
     "name": "stdout",
     "output_type": "stream",
     "text": [
      "          state    area\n",
      "0    California  423967\n",
      "1         Texas  695662\n",
      "2       Florida  170312\n",
      "3      New York  141297\n",
      "4  Pennsylvania  119280\n",
      "          state     area\n",
      "0    California   90.000\n",
      "1         Texas   41.896\n",
      "2       Florida  126.500\n",
      "3      New York  142.970\n",
      "4  Pennsylvania  109.300\n"
     ]
    }
   ],
   "source": [
    "df_area = series_area.to_frame(name=\"area\").reset_index().rename(columns={\"index\": \"state\"})\n",
    "df_pop = series_pop.to_frame(name=\"area\").reset_index().rename(columns={\"index\": \"state\"})\n",
    "df_density = series_density.to_frame(name=\"area\").reset_index().rename(columns={\"index\": \"state\"})\n",
    "print(df_area)\n",
    "print(df_density)"
   ]
  },
  {
   "cell_type": "code",
   "execution_count": 7,
   "id": "c901c41f-57d3-4f99-90a7-3be7fbc588f4",
   "metadata": {},
   "outputs": [],
   "source": [
    "df_density.rename(columns={\"area\": \"density\"}, inplace=True)\n",
    "df_pop.rename(columns={\"area\": \"population\"}, inplace=True)"
   ]
  },
  {
   "cell_type": "code",
   "execution_count": 8,
   "id": "5cf855d1-7041-4754-ac95-07f54ff6e919",
   "metadata": {},
   "outputs": [],
   "source": [
    "data_1 = pd.merge(df_area, df_pop, on=\"state\")\n"
   ]
  },
  {
   "cell_type": "code",
   "execution_count": 16,
   "id": "05ec9c87",
   "metadata": {},
   "outputs": [],
   "source": [
    "data = pd.merge(data_1, df_density, on=\"state\")"
   ]
  },
  {
   "cell_type": "code",
   "execution_count": 18,
   "id": "9cd9d139",
   "metadata": {},
   "outputs": [
    {
     "name": "stdout",
     "output_type": "stream",
     "text": [
      "<class 'pandas.core.frame.DataFrame'>\n",
      "RangeIndex: 5 entries, 0 to 4\n",
      "Data columns (total 4 columns):\n",
      " #   Column      Non-Null Count  Dtype  \n",
      "---  ------      --------------  -----  \n",
      " 0   state       5 non-null      object \n",
      " 1   area        5 non-null      int64  \n",
      " 2   population  5 non-null      int64  \n",
      " 3   density     5 non-null      float64\n",
      "dtypes: float64(1), int64(2), object(1)\n",
      "memory usage: 292.0+ bytes\n"
     ]
    }
   ],
   "source": [
    "data.info()"
   ]
  },
  {
   "cell_type": "code",
   "execution_count": 20,
   "id": "8cfeb402",
   "metadata": {},
   "outputs": [
    {
     "data": {
      "text/html": [
       "<div>\n",
       "<style scoped>\n",
       "    .dataframe tbody tr th:only-of-type {\n",
       "        vertical-align: middle;\n",
       "    }\n",
       "\n",
       "    .dataframe tbody tr th {\n",
       "        vertical-align: top;\n",
       "    }\n",
       "\n",
       "    .dataframe thead th {\n",
       "        text-align: right;\n",
       "    }\n",
       "</style>\n",
       "<table border=\"1\" class=\"dataframe\">\n",
       "  <thead>\n",
       "    <tr style=\"text-align: right;\">\n",
       "      <th></th>\n",
       "      <th>state</th>\n",
       "      <th>area</th>\n",
       "      <th>population</th>\n",
       "      <th>density</th>\n",
       "    </tr>\n",
       "  </thead>\n",
       "  <tbody>\n",
       "    <tr>\n",
       "      <th>0</th>\n",
       "      <td>California</td>\n",
       "      <td>423967</td>\n",
       "      <td>39538223</td>\n",
       "      <td>90.000</td>\n",
       "    </tr>\n",
       "    <tr>\n",
       "      <th>1</th>\n",
       "      <td>Texas</td>\n",
       "      <td>695662</td>\n",
       "      <td>29145505</td>\n",
       "      <td>41.896</td>\n",
       "    </tr>\n",
       "    <tr>\n",
       "      <th>2</th>\n",
       "      <td>Florida</td>\n",
       "      <td>170312</td>\n",
       "      <td>21538187</td>\n",
       "      <td>126.500</td>\n",
       "    </tr>\n",
       "  </tbody>\n",
       "</table>\n",
       "</div>"
      ],
      "text/plain": [
       "        state    area  population  density\n",
       "0  California  423967    39538223   90.000\n",
       "1       Texas  695662    29145505   41.896\n",
       "2     Florida  170312    21538187  126.500"
      ]
     },
     "execution_count": 20,
     "metadata": {},
     "output_type": "execute_result"
    }
   ],
   "source": [
    "data.loc[0:2]"
   ]
  },
  {
   "cell_type": "code",
   "execution_count": 22,
   "id": "5f8aa767",
   "metadata": {},
   "outputs": [
    {
     "data": {
      "text/html": [
       "<div>\n",
       "<style scoped>\n",
       "    .dataframe tbody tr th:only-of-type {\n",
       "        vertical-align: middle;\n",
       "    }\n",
       "\n",
       "    .dataframe tbody tr th {\n",
       "        vertical-align: top;\n",
       "    }\n",
       "\n",
       "    .dataframe thead th {\n",
       "        text-align: right;\n",
       "    }\n",
       "</style>\n",
       "<table border=\"1\" class=\"dataframe\">\n",
       "  <thead>\n",
       "    <tr style=\"text-align: right;\">\n",
       "      <th></th>\n",
       "      <th>state</th>\n",
       "      <th>area</th>\n",
       "      <th>population</th>\n",
       "      <th>density</th>\n",
       "    </tr>\n",
       "  </thead>\n",
       "  <tbody>\n",
       "    <tr>\n",
       "      <th>0</th>\n",
       "      <td>California</td>\n",
       "      <td>423967</td>\n",
       "      <td>39538223</td>\n",
       "      <td>90.000</td>\n",
       "    </tr>\n",
       "    <tr>\n",
       "      <th>1</th>\n",
       "      <td>Texas</td>\n",
       "      <td>695662</td>\n",
       "      <td>29145505</td>\n",
       "      <td>41.896</td>\n",
       "    </tr>\n",
       "  </tbody>\n",
       "</table>\n",
       "</div>"
      ],
      "text/plain": [
       "        state    area  population  density\n",
       "0  California  423967    39538223   90.000\n",
       "1       Texas  695662    29145505   41.896"
      ]
     },
     "execution_count": 22,
     "metadata": {},
     "output_type": "execute_result"
    }
   ],
   "source": [
    "data.iloc[0:2]"
   ]
  },
  {
   "cell_type": "code",
   "execution_count": 24,
   "id": "9e7136cd",
   "metadata": {},
   "outputs": [
    {
     "data": {
      "text/html": [
       "<div>\n",
       "<style scoped>\n",
       "    .dataframe tbody tr th:only-of-type {\n",
       "        vertical-align: middle;\n",
       "    }\n",
       "\n",
       "    .dataframe tbody tr th {\n",
       "        vertical-align: top;\n",
       "    }\n",
       "\n",
       "    .dataframe thead th {\n",
       "        text-align: right;\n",
       "    }\n",
       "</style>\n",
       "<table border=\"1\" class=\"dataframe\">\n",
       "  <thead>\n",
       "    <tr style=\"text-align: right;\">\n",
       "      <th></th>\n",
       "      <th>state</th>\n",
       "      <th>area</th>\n",
       "      <th>population</th>\n",
       "      <th>density</th>\n",
       "    </tr>\n",
       "  </thead>\n",
       "  <tbody>\n",
       "    <tr>\n",
       "      <th>0</th>\n",
       "      <td>California</td>\n",
       "      <td>423967</td>\n",
       "      <td>39538223</td>\n",
       "      <td>90.000</td>\n",
       "    </tr>\n",
       "    <tr>\n",
       "      <th>1</th>\n",
       "      <td>Texas</td>\n",
       "      <td>695662</td>\n",
       "      <td>29145505</td>\n",
       "      <td>41.896</td>\n",
       "    </tr>\n",
       "    <tr>\n",
       "      <th>2</th>\n",
       "      <td>Florida</td>\n",
       "      <td>170312</td>\n",
       "      <td>21538187</td>\n",
       "      <td>126.500</td>\n",
       "    </tr>\n",
       "    <tr>\n",
       "      <th>3</th>\n",
       "      <td>New York</td>\n",
       "      <td>141297</td>\n",
       "      <td>20201249</td>\n",
       "      <td>142.970</td>\n",
       "    </tr>\n",
       "    <tr>\n",
       "      <th>4</th>\n",
       "      <td>Pennsylvania</td>\n",
       "      <td>119280</td>\n",
       "      <td>13002700</td>\n",
       "      <td>109.300</td>\n",
       "    </tr>\n",
       "  </tbody>\n",
       "</table>\n",
       "</div>"
      ],
      "text/plain": [
       "          state    area  population  density\n",
       "0    California  423967    39538223   90.000\n",
       "1         Texas  695662    29145505   41.896\n",
       "2       Florida  170312    21538187  126.500\n",
       "3      New York  141297    20201249  142.970\n",
       "4  Pennsylvania  119280    13002700  109.300"
      ]
     },
     "execution_count": 24,
     "metadata": {},
     "output_type": "execute_result"
    }
   ],
   "source": [
    "#The : before 'Florida' means select all rows from the beginning up to and including the row with the index 'Florida'.\n",
    "data.loc[:'Florida']"
   ]
  },
  {
   "cell_type": "code",
   "execution_count": 28,
   "id": "70efd594",
   "metadata": {},
   "outputs": [],
   "source": [
    "index = pd.MultiIndex.from_product([[2013,2014], [1,2]], names=['year','visit'])\n",
    "columns = pd.MultiIndex.from_product([['Bob','Lob','Sob'],['HR','Temp']], names=['subject','type'])\n"
   ]
  },
  {
   "cell_type": "code",
   "execution_count": 34,
   "id": "6b35cf63-4098-4781-bf9d-b3d2f26baa2e",
   "metadata": {},
   "outputs": [],
   "source": [
    "data = np.round(np.random.randn(4,6),1)\n",
    "data[:,::2] *=10\n",
    "data +=37"
   ]
  },
  {
   "cell_type": "markdown",
   "id": "79ee70ea-e4c5-4119-8727-f82d8041fd78",
   "metadata": {},
   "source": [
    "This is fundamentally four-dimensional data, where the dimensions are the subject,\n",
    "the measurement type, the year, and the visit number."
   ]
  },
  {
   "cell_type": "code",
   "execution_count": 36,
   "id": "59a57aab-9c88-4af6-a9c6-f23e9d01b0c9",
   "metadata": {},
   "outputs": [
    {
     "data": {
      "text/html": [
       "<div>\n",
       "<style scoped>\n",
       "    .dataframe tbody tr th:only-of-type {\n",
       "        vertical-align: middle;\n",
       "    }\n",
       "\n",
       "    .dataframe tbody tr th {\n",
       "        vertical-align: top;\n",
       "    }\n",
       "\n",
       "    .dataframe thead tr th {\n",
       "        text-align: left;\n",
       "    }\n",
       "\n",
       "    .dataframe thead tr:last-of-type th {\n",
       "        text-align: right;\n",
       "    }\n",
       "</style>\n",
       "<table border=\"1\" class=\"dataframe\">\n",
       "  <thead>\n",
       "    <tr>\n",
       "      <th></th>\n",
       "      <th>subject</th>\n",
       "      <th colspan=\"2\" halign=\"left\">Bob</th>\n",
       "      <th colspan=\"2\" halign=\"left\">Lob</th>\n",
       "      <th colspan=\"2\" halign=\"left\">Sob</th>\n",
       "    </tr>\n",
       "    <tr>\n",
       "      <th></th>\n",
       "      <th>type</th>\n",
       "      <th>HR</th>\n",
       "      <th>Temp</th>\n",
       "      <th>HR</th>\n",
       "      <th>Temp</th>\n",
       "      <th>HR</th>\n",
       "      <th>Temp</th>\n",
       "    </tr>\n",
       "    <tr>\n",
       "      <th>year</th>\n",
       "      <th>visit</th>\n",
       "      <th></th>\n",
       "      <th></th>\n",
       "      <th></th>\n",
       "      <th></th>\n",
       "      <th></th>\n",
       "      <th></th>\n",
       "    </tr>\n",
       "  </thead>\n",
       "  <tbody>\n",
       "    <tr>\n",
       "      <th rowspan=\"2\" valign=\"top\">2013</th>\n",
       "      <th>1</th>\n",
       "      <td>19.0</td>\n",
       "      <td>37.2</td>\n",
       "      <td>31.0</td>\n",
       "      <td>37.5</td>\n",
       "      <td>39.0</td>\n",
       "      <td>37.3</td>\n",
       "    </tr>\n",
       "    <tr>\n",
       "      <th>2</th>\n",
       "      <td>36.0</td>\n",
       "      <td>37.7</td>\n",
       "      <td>21.0</td>\n",
       "      <td>38.2</td>\n",
       "      <td>44.0</td>\n",
       "      <td>38.2</td>\n",
       "    </tr>\n",
       "    <tr>\n",
       "      <th rowspan=\"2\" valign=\"top\">2014</th>\n",
       "      <th>1</th>\n",
       "      <td>39.0</td>\n",
       "      <td>37.1</td>\n",
       "      <td>29.0</td>\n",
       "      <td>38.5</td>\n",
       "      <td>43.0</td>\n",
       "      <td>37.8</td>\n",
       "    </tr>\n",
       "    <tr>\n",
       "      <th>2</th>\n",
       "      <td>30.0</td>\n",
       "      <td>37.0</td>\n",
       "      <td>32.0</td>\n",
       "      <td>37.6</td>\n",
       "      <td>22.0</td>\n",
       "      <td>36.8</td>\n",
       "    </tr>\n",
       "  </tbody>\n",
       "</table>\n",
       "</div>"
      ],
      "text/plain": [
       "subject      Bob         Lob         Sob      \n",
       "type          HR  Temp    HR  Temp    HR  Temp\n",
       "year visit                                    \n",
       "2013 1      19.0  37.2  31.0  37.5  39.0  37.3\n",
       "     2      36.0  37.7  21.0  38.2  44.0  38.2\n",
       "2014 1      39.0  37.1  29.0  38.5  43.0  37.8\n",
       "     2      30.0  37.0  32.0  37.6  22.0  36.8"
      ]
     },
     "execution_count": 36,
     "metadata": {},
     "output_type": "execute_result"
    }
   ],
   "source": [
    "#Create dataframe\n",
    "health_data = pd.DataFrame(data, index=index, columns=columns)\n",
    "health_data"
   ]
  },
  {
   "cell_type": "markdown",
   "id": "25145dc9-61d2-4610-b1d8-7b97fe3af6e7",
   "metadata": {},
   "source": [
    " With this in place we can, for\n",
    "example, index the top-level column by the person’s name and get a full DataFrame\n",
    "containing just that person’s information"
   ]
  },
  {
   "cell_type": "code",
   "execution_count": 40,
   "id": "84214504-bb9c-4974-b645-4bd037a51f10",
   "metadata": {},
   "outputs": [
    {
     "data": {
      "text/html": [
       "<div>\n",
       "<style scoped>\n",
       "    .dataframe tbody tr th:only-of-type {\n",
       "        vertical-align: middle;\n",
       "    }\n",
       "\n",
       "    .dataframe tbody tr th {\n",
       "        vertical-align: top;\n",
       "    }\n",
       "\n",
       "    .dataframe thead th {\n",
       "        text-align: right;\n",
       "    }\n",
       "</style>\n",
       "<table border=\"1\" class=\"dataframe\">\n",
       "  <thead>\n",
       "    <tr style=\"text-align: right;\">\n",
       "      <th></th>\n",
       "      <th>type</th>\n",
       "      <th>HR</th>\n",
       "      <th>Temp</th>\n",
       "    </tr>\n",
       "    <tr>\n",
       "      <th>year</th>\n",
       "      <th>visit</th>\n",
       "      <th></th>\n",
       "      <th></th>\n",
       "    </tr>\n",
       "  </thead>\n",
       "  <tbody>\n",
       "    <tr>\n",
       "      <th rowspan=\"2\" valign=\"top\">2013</th>\n",
       "      <th>1</th>\n",
       "      <td>31.0</td>\n",
       "      <td>37.5</td>\n",
       "    </tr>\n",
       "    <tr>\n",
       "      <th>2</th>\n",
       "      <td>21.0</td>\n",
       "      <td>38.2</td>\n",
       "    </tr>\n",
       "    <tr>\n",
       "      <th rowspan=\"2\" valign=\"top\">2014</th>\n",
       "      <th>1</th>\n",
       "      <td>29.0</td>\n",
       "      <td>38.5</td>\n",
       "    </tr>\n",
       "    <tr>\n",
       "      <th>2</th>\n",
       "      <td>32.0</td>\n",
       "      <td>37.6</td>\n",
       "    </tr>\n",
       "  </tbody>\n",
       "</table>\n",
       "</div>"
      ],
      "text/plain": [
       "type          HR  Temp\n",
       "year visit            \n",
       "2013 1      31.0  37.5\n",
       "     2      21.0  38.2\n",
       "2014 1      29.0  38.5\n",
       "     2      32.0  37.6"
      ]
     },
     "execution_count": 40,
     "metadata": {},
     "output_type": "execute_result"
    }
   ],
   "source": [
    "health_data['Lob']"
   ]
  },
  {
   "cell_type": "code",
   "execution_count": 42,
   "id": "7c481202-6283-4a06-8b59-519d85e1456a",
   "metadata": {},
   "outputs": [
    {
     "data": {
      "text/plain": [
       "year  visit\n",
       "2013  1        31.0\n",
       "      2        21.0\n",
       "2014  1        29.0\n",
       "      2        32.0\n",
       "Name: (Lob, HR), dtype: float64"
      ]
     },
     "execution_count": 42,
     "metadata": {},
     "output_type": "execute_result"
    }
   ],
   "source": [
    "health_data['Lob', 'HR']"
   ]
  }
 ],
 "metadata": {
  "kernelspec": {
   "display_name": "Python [conda env:base] *",
   "language": "python",
   "name": "conda-base-py"
  },
  "language_info": {
   "codemirror_mode": {
    "name": "ipython",
    "version": 3
   },
   "file_extension": ".py",
   "mimetype": "text/x-python",
   "name": "python",
   "nbconvert_exporter": "python",
   "pygments_lexer": "ipython3",
   "version": "3.12.7"
  }
 },
 "nbformat": 4,
 "nbformat_minor": 5
}
